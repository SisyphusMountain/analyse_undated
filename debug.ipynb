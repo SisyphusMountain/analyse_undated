{
 "cells": [
  {
   "cell_type": "code",
   "execution_count": 4,
   "metadata": {},
   "outputs": [],
   "source": [
    "import pandas as pd"
   ]
  },
  {
   "cell_type": "code",
   "execution_count": 30,
   "metadata": {},
   "outputs": [],
   "source": [
    "df_test = pd.read_csv(\"/home/enzo/Documents/git/ghost_experiments/analyse_undated/results/combined_spr_classifications.csv\")"
   ]
  },
  {
   "cell_type": "code",
   "execution_count": 36,
   "metadata": {},
   "outputs": [
    {
     "data": {
      "text/plain": [
       "np.int64(0)"
      ]
     },
     "execution_count": 36,
     "metadata": {},
     "output_type": "execute_result"
    }
   ],
   "source": [
    "((df_test[\"receiver\"] == df_test[\"induced_donor\"]) & (df_test[\"receiver\"] == df_test[\"donor\"])).sum()"
   ]
  },
  {
   "cell_type": "code",
   "execution_count": null,
   "metadata": {},
   "outputs": [
    {
     "data": {
      "application/vnd.microsoft.datawrangler.viewer.v0+json": {
       "columns": [
        {
         "name": "index",
         "rawType": "int64",
         "type": "integer"
        },
        {
         "name": "receiver",
         "rawType": "int64",
         "type": "integer"
        },
        {
         "name": "count",
         "rawType": "int64",
         "type": "integer"
        }
       ],
       "conversionMethod": "pd.DataFrame",
       "ref": "caec8934-b362-4809-af9f-aef9118335ca",
       "rows": [
        [
         "0",
         "13",
         "3"
        ],
        [
         "1",
         "7",
         "2"
        ],
        [
         "2",
         "6",
         "3"
        ],
        [
         "3",
         "2",
         "3"
        ],
        [
         "4",
         "8",
         "2"
        ],
        [
         "5",
         "5",
         "3"
        ],
        [
         "6",
         "12",
         "2"
        ],
        [
         "7",
         "14",
         "2"
        ],
        [
         "8",
         "9",
         "2"
        ],
        [
         "9",
         "11",
         "2"
        ],
        [
         "10",
         "17",
         "2"
        ],
        [
         "11",
         "16",
         "2"
        ],
        [
         "12",
         "10",
         "2"
        ],
        [
         "13",
         "18",
         "2"
        ],
        [
         "14",
         "15",
         "2"
        ]
       ],
       "shape": {
        "columns": 2,
        "rows": 15
       }
      },
      "text/html": [
       "<div>\n",
       "<style scoped>\n",
       "    .dataframe tbody tr th:only-of-type {\n",
       "        vertical-align: middle;\n",
       "    }\n",
       "\n",
       "    .dataframe tbody tr th {\n",
       "        vertical-align: top;\n",
       "    }\n",
       "\n",
       "    .dataframe thead th {\n",
       "        text-align: right;\n",
       "    }\n",
       "</style>\n",
       "<table border=\"1\" class=\"dataframe\">\n",
       "  <thead>\n",
       "    <tr style=\"text-align: right;\">\n",
       "      <th></th>\n",
       "      <th>receiver</th>\n",
       "      <th>count</th>\n",
       "    </tr>\n",
       "  </thead>\n",
       "  <tbody>\n",
       "    <tr>\n",
       "      <th>0</th>\n",
       "      <td>13</td>\n",
       "      <td>3</td>\n",
       "    </tr>\n",
       "    <tr>\n",
       "      <th>1</th>\n",
       "      <td>7</td>\n",
       "      <td>2</td>\n",
       "    </tr>\n",
       "    <tr>\n",
       "      <th>2</th>\n",
       "      <td>6</td>\n",
       "      <td>3</td>\n",
       "    </tr>\n",
       "    <tr>\n",
       "      <th>3</th>\n",
       "      <td>2</td>\n",
       "      <td>3</td>\n",
       "    </tr>\n",
       "    <tr>\n",
       "      <th>4</th>\n",
       "      <td>8</td>\n",
       "      <td>2</td>\n",
       "    </tr>\n",
       "    <tr>\n",
       "      <th>5</th>\n",
       "      <td>5</td>\n",
       "      <td>3</td>\n",
       "    </tr>\n",
       "    <tr>\n",
       "      <th>6</th>\n",
       "      <td>12</td>\n",
       "      <td>2</td>\n",
       "    </tr>\n",
       "    <tr>\n",
       "      <th>7</th>\n",
       "      <td>14</td>\n",
       "      <td>2</td>\n",
       "    </tr>\n",
       "    <tr>\n",
       "      <th>8</th>\n",
       "      <td>9</td>\n",
       "      <td>2</td>\n",
       "    </tr>\n",
       "    <tr>\n",
       "      <th>9</th>\n",
       "      <td>11</td>\n",
       "      <td>2</td>\n",
       "    </tr>\n",
       "    <tr>\n",
       "      <th>10</th>\n",
       "      <td>17</td>\n",
       "      <td>2</td>\n",
       "    </tr>\n",
       "    <tr>\n",
       "      <th>11</th>\n",
       "      <td>16</td>\n",
       "      <td>2</td>\n",
       "    </tr>\n",
       "    <tr>\n",
       "      <th>12</th>\n",
       "      <td>10</td>\n",
       "      <td>2</td>\n",
       "    </tr>\n",
       "    <tr>\n",
       "      <th>13</th>\n",
       "      <td>18</td>\n",
       "      <td>2</td>\n",
       "    </tr>\n",
       "    <tr>\n",
       "      <th>14</th>\n",
       "      <td>15</td>\n",
       "      <td>2</td>\n",
       "    </tr>\n",
       "  </tbody>\n",
       "</table>\n",
       "</div>"
      ],
      "text/plain": [
       "    receiver  count\n",
       "0         13      3\n",
       "1          7      2\n",
       "2          6      3\n",
       "3          2      3\n",
       "4          8      2\n",
       "5          5      3\n",
       "6         12      2\n",
       "7         14      2\n",
       "8          9      2\n",
       "9         11      2\n",
       "10        17      2\n",
       "11        16      2\n",
       "12        10      2\n",
       "13        18      2\n",
       "14        15      2"
      ]
     },
     "execution_count": 51,
     "metadata": {},
     "output_type": "execute_result"
    }
   ],
   "source": [
    "df_path = \"/home/enzo/Documents/git/ghost_experiments/analyse_undated/results/combined_spr_classifications.csv\"\n",
    "df = pd.read_csv(df_path)\n",
    "df_4 = df[df[\"removed_node\"]==4]\n",
    "donor_is_induced = df_4[\"donor\"] == df_4[\"induced_donor\"]\n",
    "df_donor_is_induced = df_4[donor_is_induced]\n",
    "receiver_and_topology_grouped = df_4.groupby([\"receiver\", \"topology_id\"]).size().reset_index(name=\"count\")\n",
    "df_merged = df_donor_is_induced.merge(receiver_and_topology_grouped, on=[\"receiver\", \"topology_id\"], how=\"left\")\n",
    "df_merged = df_merged[[\"receiver\", \"count\"]]\n",
    "df_merged"
   ]
  },
  {
   "cell_type": "code",
   "execution_count": 40,
   "metadata": {},
   "outputs": [
    {
     "data": {
      "application/vnd.microsoft.datawrangler.viewer.v0+json": {
       "columns": [
        {
         "name": "index",
         "rawType": "int64",
         "type": "integer"
        },
        {
         "name": "donor",
         "rawType": "int64",
         "type": "integer"
        },
        {
         "name": "receiver",
         "rawType": "int64",
         "type": "integer"
        },
        {
         "name": "topology_id",
         "rawType": "int64",
         "type": "integer"
        },
        {
         "name": "removed_node",
         "rawType": "int64",
         "type": "integer"
        },
        {
         "name": "induced_donor",
         "rawType": "int64",
         "type": "integer"
        }
       ],
       "conversionMethod": "pd.DataFrame",
       "ref": "425aa02e-44d8-4579-8395-8b11c3f4d52e",
       "rows": [
        [
         "46",
         "3",
         "13",
         "1",
         "4",
         "3"
        ],
        [
         "58",
         "3",
         "7",
         "3",
         "4",
         "3"
        ],
        [
         "61",
         "3",
         "6",
         "3",
         "4",
         "3"
        ],
        [
         "63",
         "3",
         "2",
         "3",
         "4",
         "3"
        ],
        [
         "64",
         "3",
         "8",
         "3",
         "4",
         "3"
        ],
        [
         "75",
         "3",
         "5",
         "3",
         "4",
         "3"
        ],
        [
         "92",
         "3",
         "12",
         "8",
         "4",
         "3"
        ],
        [
         "98",
         "3",
         "14",
         "9",
         "4",
         "3"
        ],
        [
         "105",
         "3",
         "9",
         "12",
         "4",
         "3"
        ],
        [
         "113",
         "3",
         "11",
         "16",
         "4",
         "3"
        ],
        [
         "134",
         "3",
         "17",
         "32",
         "4",
         "3"
        ],
        [
         "147",
         "3",
         "16",
         "43",
         "4",
         "3"
        ],
        [
         "186",
         "3",
         "10",
         "69",
         "4",
         "3"
        ],
        [
         "191",
         "3",
         "18",
         "72",
         "4",
         "3"
        ],
        [
         "216",
         "3",
         "15",
         "94",
         "4",
         "3"
        ]
       ],
       "shape": {
        "columns": 5,
        "rows": 15
       }
      },
      "text/html": [
       "<div>\n",
       "<style scoped>\n",
       "    .dataframe tbody tr th:only-of-type {\n",
       "        vertical-align: middle;\n",
       "    }\n",
       "\n",
       "    .dataframe tbody tr th {\n",
       "        vertical-align: top;\n",
       "    }\n",
       "\n",
       "    .dataframe thead th {\n",
       "        text-align: right;\n",
       "    }\n",
       "</style>\n",
       "<table border=\"1\" class=\"dataframe\">\n",
       "  <thead>\n",
       "    <tr style=\"text-align: right;\">\n",
       "      <th></th>\n",
       "      <th>donor</th>\n",
       "      <th>receiver</th>\n",
       "      <th>topology_id</th>\n",
       "      <th>removed_node</th>\n",
       "      <th>induced_donor</th>\n",
       "    </tr>\n",
       "  </thead>\n",
       "  <tbody>\n",
       "    <tr>\n",
       "      <th>46</th>\n",
       "      <td>3</td>\n",
       "      <td>13</td>\n",
       "      <td>1</td>\n",
       "      <td>4</td>\n",
       "      <td>3</td>\n",
       "    </tr>\n",
       "    <tr>\n",
       "      <th>58</th>\n",
       "      <td>3</td>\n",
       "      <td>7</td>\n",
       "      <td>3</td>\n",
       "      <td>4</td>\n",
       "      <td>3</td>\n",
       "    </tr>\n",
       "    <tr>\n",
       "      <th>61</th>\n",
       "      <td>3</td>\n",
       "      <td>6</td>\n",
       "      <td>3</td>\n",
       "      <td>4</td>\n",
       "      <td>3</td>\n",
       "    </tr>\n",
       "    <tr>\n",
       "      <th>63</th>\n",
       "      <td>3</td>\n",
       "      <td>2</td>\n",
       "      <td>3</td>\n",
       "      <td>4</td>\n",
       "      <td>3</td>\n",
       "    </tr>\n",
       "    <tr>\n",
       "      <th>64</th>\n",
       "      <td>3</td>\n",
       "      <td>8</td>\n",
       "      <td>3</td>\n",
       "      <td>4</td>\n",
       "      <td>3</td>\n",
       "    </tr>\n",
       "    <tr>\n",
       "      <th>75</th>\n",
       "      <td>3</td>\n",
       "      <td>5</td>\n",
       "      <td>3</td>\n",
       "      <td>4</td>\n",
       "      <td>3</td>\n",
       "    </tr>\n",
       "    <tr>\n",
       "      <th>92</th>\n",
       "      <td>3</td>\n",
       "      <td>12</td>\n",
       "      <td>8</td>\n",
       "      <td>4</td>\n",
       "      <td>3</td>\n",
       "    </tr>\n",
       "    <tr>\n",
       "      <th>98</th>\n",
       "      <td>3</td>\n",
       "      <td>14</td>\n",
       "      <td>9</td>\n",
       "      <td>4</td>\n",
       "      <td>3</td>\n",
       "    </tr>\n",
       "    <tr>\n",
       "      <th>105</th>\n",
       "      <td>3</td>\n",
       "      <td>9</td>\n",
       "      <td>12</td>\n",
       "      <td>4</td>\n",
       "      <td>3</td>\n",
       "    </tr>\n",
       "    <tr>\n",
       "      <th>113</th>\n",
       "      <td>3</td>\n",
       "      <td>11</td>\n",
       "      <td>16</td>\n",
       "      <td>4</td>\n",
       "      <td>3</td>\n",
       "    </tr>\n",
       "    <tr>\n",
       "      <th>134</th>\n",
       "      <td>3</td>\n",
       "      <td>17</td>\n",
       "      <td>32</td>\n",
       "      <td>4</td>\n",
       "      <td>3</td>\n",
       "    </tr>\n",
       "    <tr>\n",
       "      <th>147</th>\n",
       "      <td>3</td>\n",
       "      <td>16</td>\n",
       "      <td>43</td>\n",
       "      <td>4</td>\n",
       "      <td>3</td>\n",
       "    </tr>\n",
       "    <tr>\n",
       "      <th>186</th>\n",
       "      <td>3</td>\n",
       "      <td>10</td>\n",
       "      <td>69</td>\n",
       "      <td>4</td>\n",
       "      <td>3</td>\n",
       "    </tr>\n",
       "    <tr>\n",
       "      <th>191</th>\n",
       "      <td>3</td>\n",
       "      <td>18</td>\n",
       "      <td>72</td>\n",
       "      <td>4</td>\n",
       "      <td>3</td>\n",
       "    </tr>\n",
       "    <tr>\n",
       "      <th>216</th>\n",
       "      <td>3</td>\n",
       "      <td>15</td>\n",
       "      <td>94</td>\n",
       "      <td>4</td>\n",
       "      <td>3</td>\n",
       "    </tr>\n",
       "  </tbody>\n",
       "</table>\n",
       "</div>"
      ],
      "text/plain": [
       "     donor  receiver  topology_id  removed_node  induced_donor\n",
       "46       3        13            1             4              3\n",
       "58       3         7            3             4              3\n",
       "61       3         6            3             4              3\n",
       "63       3         2            3             4              3\n",
       "64       3         8            3             4              3\n",
       "75       3         5            3             4              3\n",
       "92       3        12            8             4              3\n",
       "98       3        14            9             4              3\n",
       "105      3         9           12             4              3\n",
       "113      3        11           16             4              3\n",
       "134      3        17           32             4              3\n",
       "147      3        16           43             4              3\n",
       "186      3        10           69             4              3\n",
       "191      3        18           72             4              3\n",
       "216      3        15           94             4              3"
      ]
     },
     "execution_count": 40,
     "metadata": {},
     "output_type": "execute_result"
    }
   ],
   "source": [
    "df_donor_is_induced"
   ]
  },
  {
   "cell_type": "code",
   "execution_count": null,
   "metadata": {},
   "outputs": [],
   "source": [
    "topology_counts = df_4.groupby(\"topology_id\")[\"topology_id\"].count()\n"
   ]
  },
  {
   "cell_type": "code",
   "execution_count": 17,
   "metadata": {},
   "outputs": [],
   "source": [
    "# only keep rows of df_4 such that the corresponding topology is in more than 1 row\n",
    "df_filtered = df_4[df_4[\"topology_id\"].isin(topology_counts[topology_counts > 1].index)]"
   ]
  },
  {
   "cell_type": "code",
   "execution_count": 18,
   "metadata": {},
   "outputs": [
    {
     "data": {
      "application/vnd.microsoft.datawrangler.viewer.v0+json": {
       "columns": [
        {
         "name": "index",
         "rawType": "int64",
         "type": "integer"
        },
        {
         "name": "donor",
         "rawType": "int64",
         "type": "integer"
        },
        {
         "name": "receiver",
         "rawType": "int64",
         "type": "integer"
        },
        {
         "name": "topology_id",
         "rawType": "int64",
         "type": "integer"
        },
        {
         "name": "removed_node",
         "rawType": "int64",
         "type": "integer"
        },
        {
         "name": "induced_donor",
         "rawType": "int64",
         "type": "integer"
        }
       ],
       "conversionMethod": "pd.DataFrame",
       "ref": "c7358ef6-3acc-4783-958a-836da5f2ced3",
       "rows": [
        [
         "44",
         "14",
         "7",
         "1",
         "4",
         "3"
        ],
        [
         "45",
         "2",
         "13",
         "1",
         "4",
         "3"
        ],
        [
         "46",
         "3",
         "13",
         "1",
         "4",
         "3"
        ],
        [
         "47",
         "7",
         "8",
         "1",
         "4",
         "3"
        ],
        [
         "48",
         "7",
         "14",
         "1",
         "4",
         "3"
        ],
        [
         "49",
         "13",
         "14",
         "1",
         "4",
         "3"
        ],
        [
         "50",
         "8",
         "7",
         "1",
         "4",
         "3"
        ],
        [
         "51",
         "13",
         "2",
         "1",
         "4",
         "3"
        ],
        [
         "52",
         "14",
         "13",
         "1",
         "4",
         "3"
        ],
        [
         "53",
         "15",
         "12",
         "2",
         "4",
         "3"
        ],
        [
         "54",
         "11",
         "12",
         "2",
         "4",
         "3"
        ],
        [
         "55",
         "5",
         "10",
         "3",
         "4",
         "3"
        ],
        [
         "56",
         "5",
         "6",
         "3",
         "4",
         "3"
        ],
        [
         "57",
         "9",
         "10",
         "3",
         "4",
         "3"
        ],
        [
         "58",
         "3",
         "7",
         "3",
         "4",
         "3"
        ],
        [
         "59",
         "17",
         "18",
         "3",
         "4",
         "3"
        ],
        [
         "60",
         "6",
         "5",
         "3",
         "4",
         "3"
        ],
        [
         "61",
         "3",
         "6",
         "3",
         "4",
         "3"
        ],
        [
         "62",
         "5",
         "9",
         "3",
         "4",
         "3"
        ],
        [
         "63",
         "3",
         "2",
         "3",
         "4",
         "3"
        ],
        [
         "64",
         "3",
         "8",
         "3",
         "4",
         "3"
        ],
        [
         "65",
         "7",
         "2",
         "3",
         "4",
         "3"
        ],
        [
         "66",
         "2",
         "6",
         "3",
         "4",
         "3"
        ],
        [
         "67",
         "10",
         "16",
         "3",
         "4",
         "3"
        ],
        [
         "68",
         "11",
         "17",
         "3",
         "4",
         "3"
        ],
        [
         "69",
         "11",
         "18",
         "3",
         "4",
         "3"
        ],
        [
         "70",
         "8",
         "13",
         "3",
         "4",
         "3"
        ],
        [
         "71",
         "8",
         "2",
         "3",
         "4",
         "3"
        ],
        [
         "72",
         "16",
         "15",
         "3",
         "4",
         "3"
        ],
        [
         "73",
         "2",
         "8",
         "3",
         "4",
         "3"
        ],
        [
         "74",
         "10",
         "15",
         "3",
         "4",
         "3"
        ],
        [
         "75",
         "3",
         "5",
         "3",
         "4",
         "3"
        ],
        [
         "76",
         "7",
         "11",
         "3",
         "4",
         "3"
        ],
        [
         "77",
         "10",
         "9",
         "3",
         "4",
         "3"
        ],
        [
         "78",
         "8",
         "14",
         "3",
         "4",
         "3"
        ],
        [
         "79",
         "12",
         "11",
         "3",
         "4",
         "3"
        ],
        [
         "80",
         "15",
         "16",
         "3",
         "4",
         "3"
        ],
        [
         "81",
         "5",
         "3",
         "3",
         "4",
         "3"
        ],
        [
         "82",
         "2",
         "7",
         "3",
         "4",
         "3"
        ],
        [
         "83",
         "6",
         "3",
         "3",
         "4",
         "3"
        ],
        [
         "84",
         "2",
         "5",
         "3",
         "4",
         "3"
        ],
        [
         "85",
         "7",
         "12",
         "3",
         "4",
         "3"
        ],
        [
         "86",
         "2",
         "3",
         "3",
         "4",
         "3"
        ],
        [
         "87",
         "18",
         "17",
         "3",
         "4",
         "3"
        ],
        [
         "92",
         "3",
         "12",
         "8",
         "4",
         "3"
        ],
        [
         "93",
         "12",
         "2",
         "8",
         "4",
         "3"
        ],
        [
         "94",
         "11",
         "8",
         "8",
         "4",
         "3"
        ],
        [
         "95",
         "8",
         "11",
         "8",
         "4",
         "3"
        ],
        [
         "96",
         "2",
         "12",
         "8",
         "4",
         "3"
        ],
        [
         "97",
         "2",
         "14",
         "9",
         "4",
         "3"
        ]
       ],
       "shape": {
        "columns": 5,
        "rows": 97
       }
      },
      "text/html": [
       "<div>\n",
       "<style scoped>\n",
       "    .dataframe tbody tr th:only-of-type {\n",
       "        vertical-align: middle;\n",
       "    }\n",
       "\n",
       "    .dataframe tbody tr th {\n",
       "        vertical-align: top;\n",
       "    }\n",
       "\n",
       "    .dataframe thead th {\n",
       "        text-align: right;\n",
       "    }\n",
       "</style>\n",
       "<table border=\"1\" class=\"dataframe\">\n",
       "  <thead>\n",
       "    <tr style=\"text-align: right;\">\n",
       "      <th></th>\n",
       "      <th>donor</th>\n",
       "      <th>receiver</th>\n",
       "      <th>topology_id</th>\n",
       "      <th>removed_node</th>\n",
       "      <th>induced_donor</th>\n",
       "    </tr>\n",
       "  </thead>\n",
       "  <tbody>\n",
       "    <tr>\n",
       "      <th>44</th>\n",
       "      <td>14</td>\n",
       "      <td>7</td>\n",
       "      <td>1</td>\n",
       "      <td>4</td>\n",
       "      <td>3</td>\n",
       "    </tr>\n",
       "    <tr>\n",
       "      <th>45</th>\n",
       "      <td>2</td>\n",
       "      <td>13</td>\n",
       "      <td>1</td>\n",
       "      <td>4</td>\n",
       "      <td>3</td>\n",
       "    </tr>\n",
       "    <tr>\n",
       "      <th>46</th>\n",
       "      <td>3</td>\n",
       "      <td>13</td>\n",
       "      <td>1</td>\n",
       "      <td>4</td>\n",
       "      <td>3</td>\n",
       "    </tr>\n",
       "    <tr>\n",
       "      <th>47</th>\n",
       "      <td>7</td>\n",
       "      <td>8</td>\n",
       "      <td>1</td>\n",
       "      <td>4</td>\n",
       "      <td>3</td>\n",
       "    </tr>\n",
       "    <tr>\n",
       "      <th>48</th>\n",
       "      <td>7</td>\n",
       "      <td>14</td>\n",
       "      <td>1</td>\n",
       "      <td>4</td>\n",
       "      <td>3</td>\n",
       "    </tr>\n",
       "    <tr>\n",
       "      <th>...</th>\n",
       "      <td>...</td>\n",
       "      <td>...</td>\n",
       "      <td>...</td>\n",
       "      <td>...</td>\n",
       "      <td>...</td>\n",
       "    </tr>\n",
       "    <tr>\n",
       "      <th>195</th>\n",
       "      <td>7</td>\n",
       "      <td>17</td>\n",
       "      <td>76</td>\n",
       "      <td>4</td>\n",
       "      <td>3</td>\n",
       "    </tr>\n",
       "    <tr>\n",
       "      <th>196</th>\n",
       "      <td>18</td>\n",
       "      <td>12</td>\n",
       "      <td>76</td>\n",
       "      <td>4</td>\n",
       "      <td>3</td>\n",
       "    </tr>\n",
       "    <tr>\n",
       "      <th>197</th>\n",
       "      <td>12</td>\n",
       "      <td>18</td>\n",
       "      <td>76</td>\n",
       "      <td>4</td>\n",
       "      <td>3</td>\n",
       "    </tr>\n",
       "    <tr>\n",
       "      <th>215</th>\n",
       "      <td>2</td>\n",
       "      <td>15</td>\n",
       "      <td>94</td>\n",
       "      <td>4</td>\n",
       "      <td>3</td>\n",
       "    </tr>\n",
       "    <tr>\n",
       "      <th>216</th>\n",
       "      <td>3</td>\n",
       "      <td>15</td>\n",
       "      <td>94</td>\n",
       "      <td>4</td>\n",
       "      <td>3</td>\n",
       "    </tr>\n",
       "  </tbody>\n",
       "</table>\n",
       "<p>97 rows × 5 columns</p>\n",
       "</div>"
      ],
      "text/plain": [
       "     donor  receiver  topology_id  removed_node  induced_donor\n",
       "44      14         7            1             4              3\n",
       "45       2        13            1             4              3\n",
       "46       3        13            1             4              3\n",
       "47       7         8            1             4              3\n",
       "48       7        14            1             4              3\n",
       "..     ...       ...          ...           ...            ...\n",
       "195      7        17           76             4              3\n",
       "196     18        12           76             4              3\n",
       "197     12        18           76             4              3\n",
       "215      2        15           94             4              3\n",
       "216      3        15           94             4              3\n",
       "\n",
       "[97 rows x 5 columns]"
      ]
     },
     "execution_count": 18,
     "metadata": {},
     "output_type": "execute_result"
    }
   ],
   "source": [
    "df_filtered"
   ]
  },
  {
   "cell_type": "code",
   "execution_count": 19,
   "metadata": {},
   "outputs": [],
   "source": [
    "df_from_induced = df_filtered[df_filtered[\"donor\"] == 3]"
   ]
  },
  {
   "cell_type": "code",
   "execution_count": 20,
   "metadata": {},
   "outputs": [
    {
     "data": {
      "application/vnd.microsoft.datawrangler.viewer.v0+json": {
       "columns": [
        {
         "name": "index",
         "rawType": "int64",
         "type": "integer"
        },
        {
         "name": "donor",
         "rawType": "int64",
         "type": "integer"
        },
        {
         "name": "receiver",
         "rawType": "int64",
         "type": "integer"
        },
        {
         "name": "topology_id",
         "rawType": "int64",
         "type": "integer"
        },
        {
         "name": "removed_node",
         "rawType": "int64",
         "type": "integer"
        },
        {
         "name": "induced_donor",
         "rawType": "int64",
         "type": "integer"
        }
       ],
       "conversionMethod": "pd.DataFrame",
       "ref": "5bd386fe-7837-4f52-93c5-3fa0ce086efb",
       "rows": [
        [
         "46",
         "3",
         "13",
         "1",
         "4",
         "3"
        ],
        [
         "58",
         "3",
         "7",
         "3",
         "4",
         "3"
        ],
        [
         "61",
         "3",
         "6",
         "3",
         "4",
         "3"
        ],
        [
         "63",
         "3",
         "2",
         "3",
         "4",
         "3"
        ],
        [
         "64",
         "3",
         "8",
         "3",
         "4",
         "3"
        ],
        [
         "75",
         "3",
         "5",
         "3",
         "4",
         "3"
        ],
        [
         "92",
         "3",
         "12",
         "8",
         "4",
         "3"
        ],
        [
         "98",
         "3",
         "14",
         "9",
         "4",
         "3"
        ],
        [
         "105",
         "3",
         "9",
         "12",
         "4",
         "3"
        ],
        [
         "113",
         "3",
         "11",
         "16",
         "4",
         "3"
        ],
        [
         "134",
         "3",
         "17",
         "32",
         "4",
         "3"
        ],
        [
         "147",
         "3",
         "16",
         "43",
         "4",
         "3"
        ],
        [
         "186",
         "3",
         "10",
         "69",
         "4",
         "3"
        ],
        [
         "191",
         "3",
         "18",
         "72",
         "4",
         "3"
        ],
        [
         "216",
         "3",
         "15",
         "94",
         "4",
         "3"
        ]
       ],
       "shape": {
        "columns": 5,
        "rows": 15
       }
      },
      "text/html": [
       "<div>\n",
       "<style scoped>\n",
       "    .dataframe tbody tr th:only-of-type {\n",
       "        vertical-align: middle;\n",
       "    }\n",
       "\n",
       "    .dataframe tbody tr th {\n",
       "        vertical-align: top;\n",
       "    }\n",
       "\n",
       "    .dataframe thead th {\n",
       "        text-align: right;\n",
       "    }\n",
       "</style>\n",
       "<table border=\"1\" class=\"dataframe\">\n",
       "  <thead>\n",
       "    <tr style=\"text-align: right;\">\n",
       "      <th></th>\n",
       "      <th>donor</th>\n",
       "      <th>receiver</th>\n",
       "      <th>topology_id</th>\n",
       "      <th>removed_node</th>\n",
       "      <th>induced_donor</th>\n",
       "    </tr>\n",
       "  </thead>\n",
       "  <tbody>\n",
       "    <tr>\n",
       "      <th>46</th>\n",
       "      <td>3</td>\n",
       "      <td>13</td>\n",
       "      <td>1</td>\n",
       "      <td>4</td>\n",
       "      <td>3</td>\n",
       "    </tr>\n",
       "    <tr>\n",
       "      <th>58</th>\n",
       "      <td>3</td>\n",
       "      <td>7</td>\n",
       "      <td>3</td>\n",
       "      <td>4</td>\n",
       "      <td>3</td>\n",
       "    </tr>\n",
       "    <tr>\n",
       "      <th>61</th>\n",
       "      <td>3</td>\n",
       "      <td>6</td>\n",
       "      <td>3</td>\n",
       "      <td>4</td>\n",
       "      <td>3</td>\n",
       "    </tr>\n",
       "    <tr>\n",
       "      <th>63</th>\n",
       "      <td>3</td>\n",
       "      <td>2</td>\n",
       "      <td>3</td>\n",
       "      <td>4</td>\n",
       "      <td>3</td>\n",
       "    </tr>\n",
       "    <tr>\n",
       "      <th>64</th>\n",
       "      <td>3</td>\n",
       "      <td>8</td>\n",
       "      <td>3</td>\n",
       "      <td>4</td>\n",
       "      <td>3</td>\n",
       "    </tr>\n",
       "    <tr>\n",
       "      <th>75</th>\n",
       "      <td>3</td>\n",
       "      <td>5</td>\n",
       "      <td>3</td>\n",
       "      <td>4</td>\n",
       "      <td>3</td>\n",
       "    </tr>\n",
       "    <tr>\n",
       "      <th>92</th>\n",
       "      <td>3</td>\n",
       "      <td>12</td>\n",
       "      <td>8</td>\n",
       "      <td>4</td>\n",
       "      <td>3</td>\n",
       "    </tr>\n",
       "    <tr>\n",
       "      <th>98</th>\n",
       "      <td>3</td>\n",
       "      <td>14</td>\n",
       "      <td>9</td>\n",
       "      <td>4</td>\n",
       "      <td>3</td>\n",
       "    </tr>\n",
       "    <tr>\n",
       "      <th>105</th>\n",
       "      <td>3</td>\n",
       "      <td>9</td>\n",
       "      <td>12</td>\n",
       "      <td>4</td>\n",
       "      <td>3</td>\n",
       "    </tr>\n",
       "    <tr>\n",
       "      <th>113</th>\n",
       "      <td>3</td>\n",
       "      <td>11</td>\n",
       "      <td>16</td>\n",
       "      <td>4</td>\n",
       "      <td>3</td>\n",
       "    </tr>\n",
       "    <tr>\n",
       "      <th>134</th>\n",
       "      <td>3</td>\n",
       "      <td>17</td>\n",
       "      <td>32</td>\n",
       "      <td>4</td>\n",
       "      <td>3</td>\n",
       "    </tr>\n",
       "    <tr>\n",
       "      <th>147</th>\n",
       "      <td>3</td>\n",
       "      <td>16</td>\n",
       "      <td>43</td>\n",
       "      <td>4</td>\n",
       "      <td>3</td>\n",
       "    </tr>\n",
       "    <tr>\n",
       "      <th>186</th>\n",
       "      <td>3</td>\n",
       "      <td>10</td>\n",
       "      <td>69</td>\n",
       "      <td>4</td>\n",
       "      <td>3</td>\n",
       "    </tr>\n",
       "    <tr>\n",
       "      <th>191</th>\n",
       "      <td>3</td>\n",
       "      <td>18</td>\n",
       "      <td>72</td>\n",
       "      <td>4</td>\n",
       "      <td>3</td>\n",
       "    </tr>\n",
       "    <tr>\n",
       "      <th>216</th>\n",
       "      <td>3</td>\n",
       "      <td>15</td>\n",
       "      <td>94</td>\n",
       "      <td>4</td>\n",
       "      <td>3</td>\n",
       "    </tr>\n",
       "  </tbody>\n",
       "</table>\n",
       "</div>"
      ],
      "text/plain": [
       "     donor  receiver  topology_id  removed_node  induced_donor\n",
       "46       3        13            1             4              3\n",
       "58       3         7            3             4              3\n",
       "61       3         6            3             4              3\n",
       "63       3         2            3             4              3\n",
       "64       3         8            3             4              3\n",
       "75       3         5            3             4              3\n",
       "92       3        12            8             4              3\n",
       "98       3        14            9             4              3\n",
       "105      3         9           12             4              3\n",
       "113      3        11           16             4              3\n",
       "134      3        17           32             4              3\n",
       "147      3        16           43             4              3\n",
       "186      3        10           69             4              3\n",
       "191      3        18           72             4              3\n",
       "216      3        15           94             4              3"
      ]
     },
     "execution_count": 20,
     "metadata": {},
     "output_type": "execute_result"
    }
   ],
   "source": [
    "df_from_induced"
   ]
  }
 ],
 "metadata": {
  "kernelspec": {
   "display_name": "DeepRec",
   "language": "python",
   "name": "python3"
  },
  "language_info": {
   "codemirror_mode": {
    "name": "ipython",
    "version": 3
   },
   "file_extension": ".py",
   "mimetype": "text/x-python",
   "name": "python",
   "nbconvert_exporter": "python",
   "pygments_lexer": "ipython3",
   "version": "3.12.9"
  }
 },
 "nbformat": 4,
 "nbformat_minor": 2
}
